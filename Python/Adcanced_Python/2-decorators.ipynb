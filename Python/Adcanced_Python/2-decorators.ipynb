{
 "cells": [
  {
   "cell_type": "code",
   "execution_count": 3,
   "id": "initial_id",
   "metadata": {
    "collapsed": true,
    "ExecuteTime": {
     "end_time": "2023-11-14T11:00:46.441458Z",
     "start_time": "2023-11-14T11:00:46.439988Z"
    }
   },
   "outputs": [],
   "source": [
    "def timer(func):\n",
    "    import time\n",
    "    def wrapper(*args, **kwargs):\n",
    "        start = time.time()\n",
    "        func(*args, **kwargs)\n",
    "        end = time.time()\n",
    "        f_name = func.__name__\n",
    "        print(f\"{f_name} took: {end-start} seconds.\")\n",
    "    return wrapper\n",
    "\n",
    "@timer\n",
    "def sum_num(n):\n",
    "    total = 0\n",
    "    for i in range(1, n+1):\n",
    "        total += i\n",
    "    return total"
   ]
  },
  {
   "cell_type": "code",
   "execution_count": 12,
   "outputs": [
    {
     "name": "stdout",
     "output_type": "stream",
     "text": [
      "sum_num took: 0.8015220165252686 seconds.\n"
     ]
    }
   ],
   "source": [
    "res = sum_num(10000000)"
   ],
   "metadata": {
    "collapsed": false,
    "ExecuteTime": {
     "end_time": "2023-11-14T11:01:34.905969Z",
     "start_time": "2023-11-14T11:01:34.101153Z"
    }
   },
   "id": "dc10967b59de9115"
  },
  {
   "cell_type": "markdown",
   "source": [
    "# Kite\n",
    "https://youtu.be/r7Dtus7N4pI?si=XxupsSwQDT0jTFm5 "
   ],
   "metadata": {
    "collapsed": false
   },
   "id": "d68a6544201eed1a"
  },
  {
   "cell_type": "code",
   "execution_count": 1,
   "outputs": [
    {
     "name": "stdout",
     "output_type": "stream",
     "text": [
      "<function f1 at 0x107add4e0>\n"
     ]
    }
   ],
   "source": [
    "def f1():\n",
    "    print(\"Calling f1()\")\n",
    "\n",
    "print(f1)"
   ],
   "metadata": {
    "collapsed": false,
    "ExecuteTime": {
     "end_time": "2023-12-11T09:35:33.848489Z",
     "start_time": "2023-12-11T09:35:33.840733Z"
    }
   },
   "id": "a9ac8d48decd0206"
  },
  {
   "cell_type": "code",
   "execution_count": 6,
   "outputs": [
    {
     "name": "stdout",
     "output_type": "stream",
     "text": [
      "<function f1 at 0x107add4e0>\n",
      "Calling f1()\n"
     ]
    }
   ],
   "source": [
    "def f2(f):\n",
    "    print(f)  # print the function object\n",
    "    f()  # call the function\n",
    "\n",
    "f2(f1)"
   ],
   "metadata": {
    "collapsed": false,
    "ExecuteTime": {
     "end_time": "2023-12-11T09:36:24.873889Z",
     "start_time": "2023-12-11T09:36:24.869124Z"
    }
   },
   "id": "5ed08330c52db88d"
  },
  {
   "cell_type": "markdown",
   "source": [
    "## Wrapper function"
   ],
   "metadata": {
    "collapsed": false
   },
   "id": "c4f1c9350deca91c"
  },
  {
   "cell_type": "code",
   "execution_count": 7,
   "outputs": [
    {
     "data": {
      "text/plain": "<function __main__.f1.<locals>.wrapper()>"
     },
     "execution_count": 7,
     "metadata": {},
     "output_type": "execute_result"
    }
   ],
   "source": [
    "def f1(f):\n",
    "    def wrapper():\n",
    "        print(\"Started\")\n",
    "        f()\n",
    "        print(\"Ended\")\n",
    "    return wrapper\n",
    "\n",
    "def f2():\n",
    "    print(\"Hello\")\n",
    "    "
   ],
   "metadata": {
    "collapsed": false,
    "ExecuteTime": {
     "end_time": "2023-12-11T09:38:52.221087Z",
     "start_time": "2023-12-11T09:38:52.195358Z"
    }
   },
   "id": "9211e2d4bc41c296"
  },
  {
   "cell_type": "code",
   "execution_count": 9,
   "outputs": [
    {
     "data": {
      "text/plain": "<function __main__.f1.<locals>.wrapper()>"
     },
     "execution_count": 9,
     "metadata": {},
     "output_type": "execute_result"
    }
   ],
   "source": [
    "f1(f2)"
   ],
   "metadata": {
    "collapsed": false,
    "ExecuteTime": {
     "end_time": "2023-12-11T09:39:33.934837Z",
     "start_time": "2023-12-11T09:39:33.930314Z"
    }
   },
   "id": "4facafe58d9ef8ef"
  },
  {
   "cell_type": "code",
   "execution_count": 8,
   "outputs": [
    {
     "name": "stdout",
     "output_type": "stream",
     "text": [
      "Started\n",
      "Hello\n",
      "Ended\n"
     ]
    }
   ],
   "source": [
    "f1(f2)()"
   ],
   "metadata": {
    "collapsed": false,
    "ExecuteTime": {
     "end_time": "2023-12-11T09:39:21.811669Z",
     "start_time": "2023-12-11T09:39:21.805954Z"
    }
   },
   "id": "1101c8f03884051b"
  },
  {
   "cell_type": "code",
   "execution_count": 10,
   "outputs": [
    {
     "name": "stdout",
     "output_type": "stream",
     "text": [
      "Started\n",
      "Hello\n",
      "Ended\n"
     ]
    }
   ],
   "source": [
    "f3 = f1(f2)  \n",
    "f3()  # f3 is a wrapper function, 等价于下面的@f1语法糖写法"
   ],
   "metadata": {
    "collapsed": false,
    "ExecuteTime": {
     "end_time": "2023-12-11T09:40:35.172541Z",
     "start_time": "2023-12-11T09:40:35.168296Z"
    }
   },
   "id": "74a8936ef2609d54"
  },
  {
   "cell_type": "code",
   "execution_count": 11,
   "outputs": [],
   "source": [
    "def f1(f):\n",
    "    def wrapper():\n",
    "        print(\"Started\")\n",
    "        f()\n",
    "        print(\"Ended\")\n",
    "    return wrapper\n",
    "\n",
    "@f1\n",
    "def f2():\n",
    "    print(\"Hello\")\n",
    "    "
   ],
   "metadata": {
    "collapsed": false,
    "ExecuteTime": {
     "end_time": "2023-12-11T09:41:59.482340Z",
     "start_time": "2023-12-11T09:41:59.477252Z"
    }
   },
   "id": "e1b66f6e83e4e141"
  },
  {
   "cell_type": "code",
   "execution_count": 12,
   "outputs": [
    {
     "name": "stdout",
     "output_type": "stream",
     "text": [
      "Started\n",
      "Hello\n",
      "Ended\n"
     ]
    }
   ],
   "source": [
    "f2()"
   ],
   "metadata": {
    "collapsed": false,
    "ExecuteTime": {
     "end_time": "2023-12-11T09:42:01.252834Z",
     "start_time": "2023-12-11T09:42:01.248008Z"
    }
   },
   "id": "80b0da4c4d959f1f"
  },
  {
   "cell_type": "markdown",
   "source": [
    "## Wrapper function with arguments"
   ],
   "metadata": {
    "collapsed": false
   },
   "id": "98be99f341177441"
  },
  {
   "cell_type": "code",
   "execution_count": 13,
   "outputs": [],
   "source": [
    "def f1(f):\n",
    "    def wrapper(*args, **kwargs):\n",
    "        print(\"Started\")\n",
    "        f(*args, **kwargs)\n",
    "        print(\"Ended\")\n",
    "    return wrapper\n",
    "\n",
    "\n",
    "@f1\n",
    "def f2(a):\n",
    "    print(a)   "
   ],
   "metadata": {
    "collapsed": false,
    "ExecuteTime": {
     "end_time": "2023-12-11T09:44:10.149547Z",
     "start_time": "2023-12-11T09:44:10.144966Z"
    }
   },
   "id": "9d047d903d85d310"
  },
  {
   "cell_type": "code",
   "execution_count": 14,
   "outputs": [
    {
     "name": "stdout",
     "output_type": "stream",
     "text": [
      "Started\n",
      "hi\n",
      "Ended\n"
     ]
    }
   ],
   "source": [
    "f2('hi')"
   ],
   "metadata": {
    "collapsed": false,
    "ExecuteTime": {
     "end_time": "2023-12-11T09:44:13.676810Z",
     "start_time": "2023-12-11T09:44:13.672455Z"
    }
   },
   "id": "8290b2a9381b0480"
  },
  {
   "cell_type": "markdown",
   "source": [
    "## Wrapper function with return value"
   ],
   "metadata": {
    "collapsed": false
   },
   "id": "f59c9c6557a2311"
  },
  {
   "cell_type": "code",
   "execution_count": 17,
   "outputs": [],
   "source": [
    "def f1(f):\n",
    "    def wrapper(*args, **kwargs):\n",
    "        print(\"Started\")\n",
    "        val = f(*args, **kwargs)\n",
    "        print(\"Ended\")\n",
    "        return val\n",
    "    return wrapper\n",
    "\n",
    "\n",
    "@f1\n",
    "def add(x, y):\n",
    "    return x + y\n",
    "\n"
   ],
   "metadata": {
    "collapsed": false,
    "ExecuteTime": {
     "end_time": "2023-12-11T09:46:54.933611Z",
     "start_time": "2023-12-11T09:46:54.929049Z"
    }
   },
   "id": "aad2a1d50b6db236"
  },
  {
   "cell_type": "code",
   "execution_count": 18,
   "outputs": [
    {
     "name": "stdout",
     "output_type": "stream",
     "text": [
      "Started\n",
      "Ended\n",
      "9\n"
     ]
    }
   ],
   "source": [
    "print(add(3, 6))"
   ],
   "metadata": {
    "collapsed": false,
    "ExecuteTime": {
     "end_time": "2023-12-11T09:47:02.304557Z",
     "start_time": "2023-12-11T09:47:02.300469Z"
    }
   },
   "id": "36d3b78e46bc9f0a"
  },
  {
   "cell_type": "code",
   "execution_count": null,
   "outputs": [],
   "source": [],
   "metadata": {
    "collapsed": false
   },
   "id": "62b6e8c518b2a185"
  }
 ],
 "metadata": {
  "kernelspec": {
   "display_name": "Python 3",
   "language": "python",
   "name": "python3"
  },
  "language_info": {
   "codemirror_mode": {
    "name": "ipython",
    "version": 2
   },
   "file_extension": ".py",
   "mimetype": "text/x-python",
   "name": "python",
   "nbconvert_exporter": "python",
   "pygments_lexer": "ipython2",
   "version": "2.7.6"
  }
 },
 "nbformat": 4,
 "nbformat_minor": 5
}
