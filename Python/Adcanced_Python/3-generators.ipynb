{
 "cells": [
  {
   "cell_type": "code",
   "execution_count": 7,
   "id": "initial_id",
   "metadata": {
    "collapsed": true,
    "ExecuteTime": {
     "end_time": "2023-11-14T11:12:45.555327Z",
     "start_time": "2023-11-14T11:12:45.546422Z"
    }
   },
   "outputs": [],
   "source": [
    "def my_generator(n):\n",
    "    for i in range(n):\n",
    "        yield i ** 2\n",
    "    \n",
    "values = my_generator(10)"
   ]
  },
  {
   "cell_type": "code",
   "execution_count": 8,
   "outputs": [
    {
     "name": "stdout",
     "output_type": "stream",
     "text": [
      "0\n",
      "1\n",
      "4\n"
     ]
    }
   ],
   "source": [
    "print(next(values))\n",
    "print(next(values))\n",
    "print(next(values))"
   ],
   "metadata": {
    "collapsed": false,
    "ExecuteTime": {
     "end_time": "2023-11-14T11:12:46.396229Z",
     "start_time": "2023-11-14T11:12:46.385558Z"
    }
   },
   "id": "1e2116c8a2b9bb02"
  },
  {
   "cell_type": "code",
   "execution_count": 9,
   "outputs": [
    {
     "name": "stdout",
     "output_type": "stream",
     "text": [
      "9\n",
      "104\n",
      "16\n",
      "104\n",
      "25\n",
      "104\n",
      "36\n",
      "104\n",
      "49\n",
      "104\n",
      "64\n",
      "104\n",
      "81\n",
      "104\n"
     ]
    }
   ],
   "source": [
    "for x in values:\n",
    "    print(x)"
   ],
   "metadata": {
    "collapsed": false,
    "ExecuteTime": {
     "end_time": "2023-11-14T11:12:47.026989Z",
     "start_time": "2023-11-14T11:12:47.016122Z"
    }
   },
   "id": "930262db2c17df9b"
  },
  {
   "cell_type": "code",
   "execution_count": 10,
   "outputs": [],
   "source": [
    "def infinite_sequence():\n",
    "    num = 0\n",
    "    while True:\n",
    "        yield num ** 5\n",
    "        num += 1"
   ],
   "metadata": {
    "collapsed": false,
    "ExecuteTime": {
     "end_time": "2023-11-14T11:14:16.969442Z",
     "start_time": "2023-11-14T11:14:16.960972Z"
    }
   },
   "id": "bd5d96a6c68189f5"
  },
  {
   "cell_type": "code",
   "execution_count": 11,
   "outputs": [],
   "source": [
    "values = infinite_sequence()"
   ],
   "metadata": {
    "collapsed": false,
    "ExecuteTime": {
     "end_time": "2023-11-14T11:14:22.186304Z",
     "start_time": "2023-11-14T11:14:22.171065Z"
    }
   },
   "id": "41851e2932117d60"
  },
  {
   "cell_type": "code",
   "execution_count": 13,
   "outputs": [
    {
     "name": "stdout",
     "output_type": "stream",
     "text": [
      "243\n",
      "1024\n",
      "3125\n",
      "7776\n",
      "16807\n",
      "32768\n"
     ]
    }
   ],
   "source": [
    "print(next(values))\n",
    "print(next(values))\n",
    "print(next(values))\n",
    "print(next(values))\n",
    "print(next(values))\n",
    "print(next(values))"
   ],
   "metadata": {
    "collapsed": false,
    "ExecuteTime": {
     "end_time": "2023-11-14T11:14:35.023340Z",
     "start_time": "2023-11-14T11:14:35.015124Z"
    }
   },
   "id": "e24f8ceedb6038a7"
  },
  {
   "cell_type": "code",
   "execution_count": null,
   "outputs": [],
   "source": [],
   "metadata": {
    "collapsed": false
   },
   "id": "225a10f7e732b9c"
  }
 ],
 "metadata": {
  "kernelspec": {
   "display_name": "Python 3",
   "language": "python",
   "name": "python3"
  },
  "language_info": {
   "codemirror_mode": {
    "name": "ipython",
    "version": 2
   },
   "file_extension": ".py",
   "mimetype": "text/x-python",
   "name": "python",
   "nbconvert_exporter": "python",
   "pygments_lexer": "ipython2",
   "version": "2.7.6"
  }
 },
 "nbformat": 4,
 "nbformat_minor": 5
}
