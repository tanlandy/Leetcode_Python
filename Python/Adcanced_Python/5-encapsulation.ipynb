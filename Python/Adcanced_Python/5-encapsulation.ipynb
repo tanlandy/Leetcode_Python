{
 "cells": [
  {
   "cell_type": "code",
   "execution_count": 7,
   "id": "initial_id",
   "metadata": {
    "collapsed": true,
    "ExecuteTime": {
     "end_time": "2023-11-22T08:02:09.466734Z",
     "start_time": "2023-11-22T08:02:09.461908Z"
    }
   },
   "outputs": [],
   "source": [
    "class Person:\n",
    "    \n",
    "    def __init__(self, name, age, gender):\n",
    "        self.__name = name  # __name is private, cannot use p1.__name, or p1.__name = \"John Smith\"\n",
    "        self.__age = age\n",
    "        self.__gender = gender\n",
    "        \n",
    "    @property  # getter, can trigger by p1.Name\n",
    "    def Name(self):\n",
    "        return self.__name\n",
    "    \n",
    "    @Name.setter  # setter, can trigger by p1.Name = \"John Smith\"\n",
    "    def Name(self, value):\n",
    "        # can set conditions here\n",
    "        self.__name = value\n",
    "        \n",
    "    # A static method belongs to the class rather than the object (instance) of a class.\n",
    "    @staticmethod  # static method, does not take self parameter, can trigger by Person.sayHello()\n",
    "    def sayHello():\n",
    "        print(\"Hello\")"
   ]
  },
  {
   "cell_type": "code",
   "execution_count": 4,
   "outputs": [],
   "source": [
    "p1 = Person(\"John\", 36, 'm')"
   ],
   "metadata": {
    "collapsed": false,
    "ExecuteTime": {
     "end_time": "2023-11-22T07:46:45.737892Z",
     "start_time": "2023-11-22T07:46:45.734592Z"
    }
   },
   "id": "a8a5e21b1dc9a8fb"
  },
  {
   "cell_type": "code",
   "execution_count": 5,
   "outputs": [
    {
     "name": "stdout",
     "output_type": "stream",
     "text": [
      "John\n"
     ]
    }
   ],
   "source": [
    "print(p1.Name)"
   ],
   "metadata": {
    "collapsed": false,
    "ExecuteTime": {
     "end_time": "2023-11-22T07:46:51.738359Z",
     "start_time": "2023-11-22T07:46:51.732809Z"
    }
   },
   "id": "6fb5c1cd9f212d85"
  },
  {
   "cell_type": "code",
   "execution_count": 6,
   "outputs": [
    {
     "name": "stdout",
     "output_type": "stream",
     "text": [
      "John Smith\n"
     ]
    }
   ],
   "source": [
    "p1.Name = \"John Smith\"\n",
    "print(p1.Name)"
   ],
   "metadata": {
    "collapsed": false,
    "ExecuteTime": {
     "end_time": "2023-11-22T07:46:58.573006Z",
     "start_time": "2023-11-22T07:46:58.566299Z"
    }
   },
   "id": "66128020e89da883"
  },
  {
   "cell_type": "code",
   "execution_count": 9,
   "outputs": [
    {
     "name": "stdout",
     "output_type": "stream",
     "text": [
      "Hello\n"
     ]
    }
   ],
   "source": [
    "Person.sayHello()"
   ],
   "metadata": {
    "collapsed": false,
    "ExecuteTime": {
     "end_time": "2023-11-22T08:02:24.975420Z",
     "start_time": "2023-11-22T08:02:24.970375Z"
    }
   },
   "id": "1e5e62bd7f7c92"
  },
  {
   "cell_type": "code",
   "execution_count": null,
   "outputs": [],
   "source": [],
   "metadata": {
    "collapsed": false
   },
   "id": "3acf29d9c84fa640"
  }
 ],
 "metadata": {
  "kernelspec": {
   "display_name": "Python 3",
   "language": "python",
   "name": "python3"
  },
  "language_info": {
   "codemirror_mode": {
    "name": "ipython",
    "version": 2
   },
   "file_extension": ".py",
   "mimetype": "text/x-python",
   "name": "python",
   "nbconvert_exporter": "python",
   "pygments_lexer": "ipython2",
   "version": "2.7.6"
  }
 },
 "nbformat": 4,
 "nbformat_minor": 5
}
