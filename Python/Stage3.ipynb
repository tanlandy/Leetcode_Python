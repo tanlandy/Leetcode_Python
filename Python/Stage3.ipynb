{
 "cells": [
  {
   "cell_type": "markdown",
   "metadata": {},
   "source": [
    "# 1 - 闭包"
   ]
  },
  {
   "cell_type": "markdown",
   "metadata": {},
   "source": [
    "全局变量的定义有被修改的风险；\n",
    "代码在命名空间上不够干净、整洁"
   ]
  },
  {
   "cell_type": "code",
   "execution_count": 1,
   "metadata": {},
   "outputs": [
    {
     "name": "stdout",
     "output_type": "stream",
     "text": [
      "Hello World Hello\n"
     ]
    }
   ],
   "source": [
    "def outer(logo):\n",
    "    def inner(msg):  # 让内部函数依赖一个外部变量\n",
    "        print(logo, msg, logo)\n",
    "    return inner\n",
    "\n",
    "fn1 = outer('Hello')  # fn1的类型是一个函数\n",
    "fn1('World')\n",
    "# 这样就可以不使用全局变量，但是又可以让内部函数依赖外部变量，确保变量的安全"
   ]
  },
  {
   "cell_type": "code",
   "execution_count": 1,
   "metadata": {},
   "outputs": [
    {
     "name": "stdout",
     "output_type": "stream",
     "text": [
      "25\n"
     ]
    }
   ],
   "source": [
    "# 闭包中修改外部变量的值\n",
    "\n",
    "def outer(num1):\n",
    "\n",
    "    def inner(num2):\n",
    "        nonlocal num1  # 用nonlocal修饰\n",
    "        num1 += num2\n",
    "        print(num1)\n",
    "    \n",
    "    return inner\n",
    "\n",
    "fn = outer(10)\n",
    "fn(15)"
   ]
  },
  {
   "cell_type": "markdown",
   "metadata": {},
   "source": [
    "# 2 - 装饰器"
   ]
  },
  {
   "cell_type": "markdown",
   "metadata": {},
   "source": [
    "是一种闭包，功能是在不破坏目标函数原有的代码和功能的前提下，为目标函数增加新功能"
   ]
  },
  {
   "cell_type": "code",
   "execution_count": 2,
   "metadata": {},
   "outputs": [
    {
     "name": "stdout",
     "output_type": "stream",
     "text": [
      "要睡觉了\n",
      "睡觉\n",
      "睡醒了\n"
     ]
    }
   ],
   "source": [
    "# 一般写法\n",
    "def outer(func):\n",
    "\n",
    "    def inner():\n",
    "        print('要睡觉了')\n",
    "        func()\n",
    "        print('睡醒了')\n",
    "    \n",
    "    return inner\n",
    "\n",
    "\n",
    "def sleep():\n",
    "    print('睡觉')\n",
    "\n",
    "\n",
    "fn = outer(sleep)\n",
    "fn()\n"
   ]
  },
  {
   "cell_type": "code",
   "execution_count": 3,
   "metadata": {},
   "outputs": [
    {
     "name": "stdout",
     "output_type": "stream",
     "text": [
      "要睡觉了\n",
      "睡觉\n",
      "睡醒了\n"
     ]
    }
   ],
   "source": [
    "# 快捷写法（语法糖）\n",
    "\n",
    "def outer(func):\n",
    "\n",
    "    def inner():\n",
    "        print('要睡觉了')\n",
    "        func()\n",
    "        print('睡醒了')\n",
    "    \n",
    "    return inner\n",
    "\n",
    "\n",
    "@outer\n",
    "def sleep():\n",
    "    print('睡觉')\n",
    "\n",
    "sleep()\n"
   ]
  },
  {
   "cell_type": "markdown",
   "metadata": {},
   "source": [
    "# 3 - 单例模式"
   ]
  },
  {
   "cell_type": "markdown",
   "metadata": {},
   "source": [
    "有些场景下，我们需要保证一个类只有一个实例，这时候就需要用到单例模式，比如某些工具类"
   ]
  },
  {
   "cell_type": "markdown",
   "metadata": {},
   "source": [
    "在一个文件里写class并且实例化，然后在另一个文件里import这个实例化的对象，这样就可以在另一个文件里使用这个对象了。\n",
    "\n",
    "此时，这个对象就是单例模式，因为在整个程序中，这个对象只有一个实例。"
   ]
  },
  {
   "cell_type": "markdown",
   "metadata": {},
   "source": [
    "优势：\n",
    "\n",
    "\n",
    "- 节省内存空间\n",
    "- 节省创建对象的开销"
   ]
  },
  {
   "cell_type": "markdown",
   "metadata": {},
   "source": [
    "# 4 - 工厂模式"
   ]
  },
  {
   "cell_type": "markdown",
   "metadata": {},
   "source": [
    "定义：对象的创建由原生类本身创建，转换到由特定的工厂方法来创建\n",
    "\n",
    "当需要大量创建一个类的实例的时候，可以使用工厂模式。\n",
    "\n",
    "工厂模式的作用是封装类的实例化过程，使用户无需关心如何创建对象，只需关心如何使用对象。\n",
    "\n",
    "优势：\n",
    "\n",
    "- 大批量创建对象的时候有统一的入口，易于代码维护\n",
    "- 当发生修改，仅修改工厂类的创建方法即可，无需修改调用方代码\n",
    "- 符合现实世界的模式，即工厂生产产品"
   ]
  },
  {
   "cell_type": "code",
   "execution_count": null,
   "metadata": {},
   "outputs": [],
   "source": [
    "class Person:\n",
    "    pass\n",
    "\n",
    "class Worder(Person):\n",
    "    pass\n",
    "\n",
    "class Student(Person):\n",
    "    pass\n",
    "\n",
    "class Teacher(Person):\n",
    "    pass\n",
    "\n",
    "class Factory:\n",
    "    def get_person(self, p_type):\n",
    "        if p_type == 'w':\n",
    "            return Worker()\n",
    "        elif p_type == 's':\n",
    "            return Student()\n",
    "        else:\n",
    "            return Teacher()\n",
    "\n",
    "factory = Factory()\n",
    "worker = factory.get_person('w')\n",
    "student = factory.get_person('s')\n",
    "teacher = factory.get_person('t')"
   ]
  },
  {
   "cell_type": "markdown",
   "metadata": {},
   "source": [
    "# 5 - 多线程并行执行"
   ]
  },
  {
   "cell_type": "markdown",
   "metadata": {},
   "source": [
    "进程：一个程序（一家公司）\n",
    "线程：进程的实际工作最小单位（公司的员工）\n",
    "\n",
    "操作系统中，进程之间是内存隔离的（不同公司有不同的办公场所）\n",
    "\n",
    "线程之间是内存共享的（同一家公司内的员工共享办公场所）\n",
    "\n"
   ]
  },
  {
   "cell_type": "markdown",
   "metadata": {},
   "source": [
    "# 6 - 多线程编程"
   ]
  },
  {
   "cell_type": "code",
   "execution_count": null,
   "metadata": {},
   "outputs": [],
   "source": [
    "import time\n",
    "\n",
    "def sing():\n",
    "    while True:\n",
    "        print(\"I am singing\")\n",
    "        time.sleep(1)\n",
    "\n",
    "def dance():\n",
    "    while True:\n",
    "        print(\"I am dancing\")\n",
    "        time.sleep(1)\n",
    "\n",
    "import threading\n",
    "\n",
    "sing_thread = threading.Thread(target=sing)\n",
    "dance_thread = threading.Thread(target=dance)\n",
    "\n",
    "sing_thread.start()\n",
    "dance_thread.start()\n",
    "\n",
    "# 通过args用元组，按照顺序传递参数\n",
    "# 通过kwargs用字典，按照key=value的形式传递参数\n",
    "\n"
   ]
  },
  {
   "cell_type": "markdown",
   "metadata": {},
   "source": [
    "# 7 - Socket服务器开发"
   ]
  },
  {
   "cell_type": "markdown",
   "metadata": {},
   "source": [
    "# 8 - Socket客户端开发"
   ]
  }
 ],
 "metadata": {
  "kernelspec": {
   "display_name": "Python 3",
   "language": "python",
   "name": "python3"
  },
  "language_info": {
   "codemirror_mode": {
    "name": "ipython",
    "version": 3
   },
   "file_extension": ".py",
   "mimetype": "text/x-python",
   "name": "python",
   "nbconvert_exporter": "python",
   "pygments_lexer": "ipython3",
   "version": "3.10.9"
  },
  "orig_nbformat": 4
 },
 "nbformat": 4,
 "nbformat_minor": 2
}
