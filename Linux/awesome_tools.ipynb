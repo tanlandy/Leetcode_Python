{
 "cells": [
  {
   "cell_type": "markdown",
   "source": [
    "top\n",
    "htop\n",
    "btop"
   ],
   "metadata": {
    "collapsed": false
   },
   "id": "63ae76add3d9985d"
  },
  {
   "cell_type": "markdown",
   "source": [
    "fzf\n",
    "can be used to search for files\n",
    "find . | fzf"
   ],
   "metadata": {
    "collapsed": false
   },
   "id": "192a2af45e821bde"
  },
  {
   "cell_type": "markdown",
   "source": [
    "ffmpeg\n",
    "used to convert video files"
   ],
   "metadata": {
    "collapsed": false
   },
   "id": "602fa7495740be69"
  },
  {
   "cell_type": "markdown",
   "source": [
    "tldr -u  # update tldr\n",
    "tldr ffmpeg "
   ],
   "metadata": {
    "collapsed": false
   },
   "id": "139174611caaab6e"
  },
  {
   "cell_type": "markdown",
   "source": [
    "neofetch\n",
    "used to display system information"
   ],
   "metadata": {
    "collapsed": false
   },
   "id": "75b985aaca35dc92"
  },
  {
   "cell_type": "markdown",
   "source": [
    "cmatrix\n",
    "used to display matrix, raining"
   ],
   "metadata": {
    "collapsed": false
   },
   "id": "ae4082f40a67e235"
  }
 ],
 "metadata": {
  "kernelspec": {
   "display_name": "Python 3",
   "language": "python",
   "name": "python3"
  },
  "language_info": {
   "codemirror_mode": {
    "name": "ipython",
    "version": 2
   },
   "file_extension": ".py",
   "mimetype": "text/x-python",
   "name": "python",
   "nbconvert_exporter": "python",
   "pygments_lexer": "ipython2",
   "version": "2.7.6"
  }
 },
 "nbformat": 4,
 "nbformat_minor": 5
}
